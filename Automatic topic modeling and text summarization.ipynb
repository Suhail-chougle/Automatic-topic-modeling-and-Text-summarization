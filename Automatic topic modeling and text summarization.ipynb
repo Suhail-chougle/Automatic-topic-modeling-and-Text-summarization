{
 "cells": [
  {
   "cell_type": "markdown",
   "metadata": {},
   "source": [
    "# Importing Libraries"
   ]
  },
  {
   "cell_type": "code",
   "execution_count": 1,
   "metadata": {},
   "outputs": [],
   "source": [
    "from tkinter import *\n",
    "from tkinter.font import Font\n",
    "from tkinter.ttk import Combobox\n",
    "from tkinter import filedialog\n",
    "from PIL import ImageTk,Image\n",
    "from tkinter import messagebox\n",
    "import openpyxl as op\n",
    "import os\n",
    "import pandas as pd\n",
    "import spacy\n",
    "from sklearn.feature_extraction.text import TfidfVectorizer\n",
    "from sklearn.decomposition import LatentDirichletAllocation\n",
    "from spacy.lang.en.stop_words import STOP_WORDS\n",
    "from string import punctuation\n",
    "from nltk.tokenize import RegexpTokenizer\n",
    "from tkinter import scrolledtext\n",
    "import PyPDF2\n",
    "from sklearn.decomposition import LatentDirichletAllocation\n",
    "\n",
    "nlp = spacy.load('en_core_web_lg')"
   ]
  },
  {
   "cell_type": "markdown",
   "metadata": {},
   "source": [
    "# Tkinter window"
   ]
  },
  {
   "cell_type": "code",
   "execution_count": 2,
   "metadata": {},
   "outputs": [],
   "source": [
    "root=Tk()\n",
    "root.minsize(1366,750)\n",
    "\n",
    "root.title('Text Summarisation')\n",
    "\n",
    "frame_font = Font(size=10, family='OpenSymbol', weight='bold')\n",
    "\n",
    "var=IntVar()"
   ]
  },
  {
   "cell_type": "markdown",
   "metadata": {},
   "source": [
    "# Background Image"
   ]
  },
  {
   "cell_type": "code",
   "execution_count": 3,
   "metadata": {},
   "outputs": [
    {
     "data": {
      "text/plain": [
       "1"
      ]
     },
     "execution_count": 3,
     "metadata": {},
     "output_type": "execute_result"
    }
   ],
   "source": [
    "img = Image.open(r\"D:\\Pictures\\841139.jpg\")\n",
    "new_img=img.resize((1366,750))\n",
    "\n",
    "canvas=Canvas(root)\n",
    "canvas.place(relwidth=1,relheight=1)   \n",
    "\n",
    "photo=ImageTk.PhotoImage(new_img)\n",
    "canvas.create_image(0,0,image=photo,anchor=NW)\n",
    "\n"
   ]
  },
  {
   "cell_type": "markdown",
   "metadata": {},
   "source": [
    "# Function  to display the file name \n",
    "* This function creates a button to upload PDF file\n",
    "* After uploading the file, this function returns file name and displays it as label just above the \"Upload PDF\" button\n",
    "* \"count\" is a counter used to check whether this function is called or not\n",
    "* If the function is called more than once(or the \"Upload PDF\" is clicked more the once), it destroys the previous label of file name, hence preventing over-writing of labels"
   ]
  },
  {
   "cell_type": "code",
   "execution_count": 4,
   "metadata": {},
   "outputs": [],
   "source": [
    "count = 0\n",
    "def pdf_file():\n",
    "    global file_label,count,frame2_filename_path\n",
    "    if count == 1:                       #so that it destroys the previous label when we click \"upload file\" again\n",
    "        file_label.destroy()\n",
    "    frame2_filename_path = filedialog.askopenfilename(initialdir='D:/', title=\"Select PDF\",filetypes=((\"PDF files\", \"*.pdf\"),(\"All files\",\"*.*\")))\n",
    "    file_label = Label(frame3, text='\\t'+os.path.basename(frame2_filename_path))\n",
    "    file_label.grid(row=0, column=1, sticky=W)\n",
    "    count = 1\n",
    "    "
   ]
  },
  {
   "cell_type": "markdown",
   "metadata": {},
   "source": [
    "# Function to display the potential topics and the summary \n",
    "## Topic modeling\n",
    "* The text data entered via. text or PDF are converted to  Document Term Matrix(DTM)\n",
    "* Which is then passed to LDA to retrieve most important topics/words from the text data(top 10)\n"
   ]
  },
  {
   "cell_type": "markdown",
   "metadata": {},
   "source": [
    "## Summary\n",
    "* We remove all the punctuations by extracting only \"alpha-numeric characters(\\w+)\" and \"full-stops(for sentences)\" using RegexpTokenzer and saving it as a new string\n",
    "* Then applying tfidfvectorizer for DTM which removes the stop words as well\n",
    "* With all the words having it's tf-idf values we calculate the tf-idf scores (by summing up the tf-idf values of words in a sentence) of all the sentences and consider only those sentences having high scores for summary (35% sentences of the total number of sentences)\n",
    "* Then we arrange the sentences as per the sequence in the original text data"
   ]
  },
  {
   "cell_type": "code",
   "execution_count": 5,
   "metadata": {},
   "outputs": [],
   "source": [
    "def summary_window(data):\n",
    "    # Topic Modeling------------------------------------------------------------------------------------------------\n",
    "    tfidf = TfidfVectorizer(stop_words='english')\n",
    "    vec = tfidf.fit_transform([data])\n",
    "    LDA = LatentDirichletAllocation(n_components=1,random_state=42)\n",
    "    LDA.fit(vec)\n",
    "    single_topic = LDA.components_\n",
    "    top_word_indices = single_topic.argsort()[0][-10:]\n",
    "    \n",
    "    \n",
    "    topic_window = Toplevel(root)\n",
    "    topic_window.geometry(\"1366x750\") \n",
    "   \n",
    "    #1st frame -----------------------------------------------------------------------------------------------------\n",
    "    frame1=LabelFrame(topic_window,font=frame_font,padx=272,pady=20)\n",
    "    frame1.grid(row=0,column=0)\n",
    "    txt_dta = Label(frame1, text='Potential Topics: ',font = (\"Times\",20),fg='red')\n",
    "    txt_dta.grid(row=0, column=0, sticky=W)\n",
    "    topic = Label(frame1,text=[tfidf.get_feature_names()[index] for index in top_word_indices],font = (\"Times\",17))\n",
    "    topic.grid(row=0, column=1, sticky=W)\n",
    "    \n",
    "    #Summary--------------------------------------------------------------------------------------------------------\n",
    "    s=' '\n",
    "\n",
    "    tokenizer = RegexpTokenizer(r'\\w+\\.*')\n",
    "    new_text = s.join(tokenizer.tokenize(data))\n",
    "    new_text = nlp(new_text)\n",
    "    \n",
    "    tfidf = TfidfVectorizer(stop_words='english')\n",
    "    vec = tfidf.fit_transform([new_text.text])\n",
    "    \n",
    "    sentence_tokens = [sent for sent in new_text.sents]\n",
    "    feature_names = tfidf.get_feature_names()\n",
    "    sentence_scores = {}\n",
    "\n",
    "    for sent in sentence_tokens:\n",
    "        score=0\n",
    "        for word in sent:\n",
    "            if word.text in feature_names:\n",
    "                score = score + vec.toarray()[0][feature_names.index(word.text)]\n",
    "                sentence_scores[sent] = score\n",
    "    \n",
    "    from heapq import nlargest\n",
    "    select_length = int(len(sentence_tokens)*0.35)\n",
    "    \n",
    "    summary = nlargest(select_length, sentence_scores, key = sentence_scores.get)\n",
    "    summary = list(summary)\n",
    "    \n",
    "    #Arranging sentences\n",
    "    sorted_summary=[]\n",
    "    for i in sentence_tokens:\n",
    "        if i in summary:\n",
    "            sorted_summary.append(i.text)\n",
    "            \n",
    "        \n",
    " \n",
    "    #2nd frame -----------------------------------------------------------------------------------------------------\n",
    "    frame2=LabelFrame(topic_window,font=frame_font,padx=217,pady=20)\n",
    "    frame2.grid(row=1,column=0)\n",
    "    sum_lbl = Label(frame2, text='Summary:',font = (\"Times\",20),fg='red')\n",
    "    sum_lbl.grid(row=0, column=0, sticky=W,ipadx=1) \n",
    "    \n",
    "    summary_data = scrolledtext.ScrolledText(frame2,width=100,font = (\"Times New Roman\",14)) \n",
    "    for sent in sorted_summary:\n",
    "        summary_data.insert(INSERT,'* ' + str(sent)+'\\n\\n')\n",
    "    summary_data.grid(row=1,column=0)\n",
    "    \n",
    "\n",
    "    topic_window.mainloop() \n",
    "    \n",
    "    \n",
    "    "
   ]
  },
  {
   "cell_type": "markdown",
   "metadata": {},
   "source": [
    "# Function to retrieve text data from the text box"
   ]
  },
  {
   "cell_type": "code",
   "execution_count": 6,
   "metadata": {},
   "outputs": [],
   "source": [
    "def text_summary():\n",
    "    text_data = text.get(\"1.0\",END)\n",
    "    summary_window(text_data)\n",
    "    \n"
   ]
  },
  {
   "cell_type": "markdown",
   "metadata": {},
   "source": [
    "# Function to read text from the PDF"
   ]
  },
  {
   "cell_type": "code",
   "execution_count": 7,
   "metadata": {},
   "outputs": [],
   "source": [
    "def pdf_summary():\n",
    "    file = open(frame2_filename_path,'rb')\n",
    "    pdf_reader = PyPDF2.PdfFileReader(file)\n",
    "    \n",
    "    final_string = ''\n",
    "    for i in range(0,pdf_reader.numPages):\n",
    "        page = pdf_reader.getPage(i)\n",
    "        page_text = page.extractText()\n",
    "        final_string = final_string + page_text\n",
    "   \n",
    "    summary_window(final_string)"
   ]
  },
  {
   "cell_type": "markdown",
   "metadata": {},
   "source": [
    "# Function to get summary "
   ]
  },
  {
   "cell_type": "code",
   "execution_count": 8,
   "metadata": {},
   "outputs": [],
   "source": [
    "def get_summary():        \n",
    "    text1 = text.get(\"1.0\",END)\n",
    "    if (len(text1) > 1):               #for some reason even an empty textbox has a length of 1, hence \">1\"   \n",
    "        text_summary()\n",
    "    elif count > 0:\n",
    "        pdf_summary()\n",
    "    else:\n",
    "        messagebox.showerror(\"Error\",\"Please enter Text or Upload a PDF\")        \n",
    "        \n",
    "        "
   ]
  },
  {
   "cell_type": "markdown",
   "metadata": {},
   "source": [
    "# Function to clear the text box and PDF "
   ]
  },
  {
   "cell_type": "code",
   "execution_count": 9,
   "metadata": {},
   "outputs": [],
   "source": [
    "def clear():\n",
    "    if count > 0:\n",
    "        file_label.destroy()   \n",
    "    text1 = text.get(\"1.0\",END)\n",
    "    if (len(text1) > 0):           #to check if user has entered any text or not(\"isalpha()\" is not working for some reason)\n",
    "        text.delete(\"1.0\",END)"
   ]
  },
  {
   "cell_type": "markdown",
   "metadata": {},
   "source": [
    "# Tkinter main window"
   ]
  },
  {
   "cell_type": "code",
   "execution_count": 10,
   "metadata": {},
   "outputs": [],
   "source": [
    "#1st frame ---------------------------------------------------------------------------------------------------------------------------------------\n",
    "frame1=LabelFrame(root,font=frame_font,padx=65,pady=15)\n",
    "frame1.grid(row=0,column=0)\n",
    "\n",
    "txt_data = Label(frame1, text='Enter text')\n",
    "txt_data.grid(row=0, column=0, sticky=W)\n",
    "    \n",
    "text=Text(frame1,height=4,width=25)\n",
    "text.grid(row=0,column=1)"
   ]
  },
  {
   "cell_type": "code",
   "execution_count": 11,
   "metadata": {},
   "outputs": [],
   "source": [
    "#2nd frame ---------------------------------------------------------------------------------------------------------------------------------------\n",
    "frame2=LabelFrame(root,font=frame_font,padx=184,pady=15)\n",
    "frame2.grid(row=1,column=0)\n",
    "\n",
    "or_lbl = Label(frame2, text='OR')\n",
    "or_lbl.grid(row=0, column=0)"
   ]
  },
  {
   "cell_type": "code",
   "execution_count": 12,
   "metadata": {},
   "outputs": [],
   "source": [
    "#3rd frame ---------------------------------------------------------------------------------------------------------------------------------------\n",
    "frame3=LabelFrame(root,font=frame_font,padx=78,pady=15)\n",
    "frame3.grid(row=2,column=0)\n",
    "\n",
    "get_file=Button(frame3,text='Upload PDF',command=pdf_file)\n",
    "get_file.grid(row=1,column=1,ipadx=60,pady=10,padx=20)"
   ]
  },
  {
   "cell_type": "code",
   "execution_count": 13,
   "metadata": {},
   "outputs": [],
   "source": [
    "#4th frame ---------------------------------------------------------------------------------------------------------------------------------------\n",
    "frame4=LabelFrame(root,font=frame_font,padx=13,pady=15)\n",
    "frame4.grid(row=3,column=0)\n",
    "\n",
    "get_sum=Button(frame4,text='Get Summary',command=get_summary)\n",
    "get_sum.grid(row=0,column=1,ipadx=5,pady=10,padx=56)\n",
    "\n",
    "clear_pdf=Button(frame4,text='Clear',command=clear)\n",
    "clear_pdf.grid(row=0,column=2,ipadx=5,pady=10,padx=56)"
   ]
  },
  {
   "cell_type": "code",
   "execution_count": 14,
   "metadata": {},
   "outputs": [],
   "source": [
    "root.mainloop()"
   ]
  }
 ],
 "metadata": {
  "kernelspec": {
   "display_name": "Python 3",
   "language": "python",
   "name": "python3"
  },
  "language_info": {
   "codemirror_mode": {
    "name": "ipython",
    "version": 3
   },
   "file_extension": ".py",
   "mimetype": "text/x-python",
   "name": "python",
   "nbconvert_exporter": "python",
   "pygments_lexer": "ipython3",
   "version": "3.8.5"
  }
 },
 "nbformat": 4,
 "nbformat_minor": 4
}
